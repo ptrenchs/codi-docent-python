{
 "cells": [
  {
   "cell_type": "markdown",
   "id": "b70b576d-729d-4c88-a13f-b5c5e9517ed8",
   "metadata": {},
   "source": [
    "# Problema 1\n",
    "Se dispone de la siguiente imagen:\n",
    "![Imagen de Google Drive](https://drive.google.com/uc?export=view&id=14PMm2ENDB1oanG5iKZpHwCCUVsxcDhNx)\n",
    "\n",
    "<img src=\"https://drive.google.com/uc?export=view&id=14PMm2ENDB1oanG5iKZpHwCCUVsxcDhNx\" alt=\"Descripción de la imagen\" width=\"600\"/>"
   ]
  },
  {
   "cell_type": "code",
   "execution_count": null,
   "id": "e4ee47c6-1e82-475b-8f4a-b29d98124487",
   "metadata": {},
   "outputs": [],
   "source": [
    "https://drive.google.com/file/d/14PMm2ENDB1oanG5iKZpHwCCUVsxcDhNx/view?usp=sharing"
   ]
  }
 ],
 "metadata": {
  "kernelspec": {
   "display_name": "Python 3 (ipykernel)",
   "language": "python",
   "name": "python3"
  },
  "language_info": {
   "codemirror_mode": {
    "name": "ipython",
    "version": 3
   },
   "file_extension": ".py",
   "mimetype": "text/x-python",
   "name": "python",
   "nbconvert_exporter": "python",
   "pygments_lexer": "ipython3",
   "version": "3.12.4"
  }
 },
 "nbformat": 4,
 "nbformat_minor": 5
}
