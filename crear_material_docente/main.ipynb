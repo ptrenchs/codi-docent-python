{
 "cells": [
  {
   "cell_type": "code",
   "execution_count": 8,
   "id": "e5123d8d-49fe-4b96-9233-515376e63c96",
   "metadata": {},
   "outputs": [
    {
     "name": "stdout",
     "output_type": "stream",
     "text": [
      "['/home/pol/Escritorio/carpeta_prova/Carpeta_ipynb/Untitled.ipynb', '/home/pol/Escritorio/carpeta_prova/Carpeta_ipynb/graficas_andrea.ipynb']\n"
     ]
    }
   ],
   "source": [
    "from fun_CMD import contenido_directorio\n",
    "from fun_CMD import convertir\n",
    "\n",
    "\n",
    "# carpeta = contenido_directorio.Directorio('/home/pol/Escritorio/carpeta_prova').all_archivos()\n",
    "# archivos_ipynb = contenido_directorio.Filtros_formato(rutas = carpeta,formatos = 'ipynb').elejir()\n",
    "# archivos_ipynb = contenido_directorio.Filtros_carpetas(rutas = archivos_ipynb,carpetas = '.ipynb_checkpoints').eliminar()\n",
    "# archivos_ipynb = contenido_directorio.ordenar_directorio(rutas=archivos_ipynb).ordenar()\n",
    "\n",
    "# archivos_py = convertir.converitr.ipynb_to_py(archivos_ipynb)\n",
    "\n",
    "carpeta = contenido_directorio.Directorio('/home/pol/Escritorio/carpeta_prova').all_archivos()\n",
    "archivos_py = contenido_directorio.Filtros_formato(rutas = carpeta,formatos = 'py').elejir()\n",
    "archivos_py = contenido_directorio.Filtros_carpetas(rutas = archivos_py,carpetas = '.ipynb_checkpoints').eliminar()\n",
    "archivos_py = contenido_directorio.ordenar_directorio(rutas=archivos_py).ordenar()\n",
    "\n",
    "archivos_ipynb = convertir.converitr.py_to_ipynb(archivos_py)\n",
    "\n",
    "print(archivos_ipynb)\n"
   ]
  },
  {
   "cell_type": "code",
   "execution_count": null,
   "id": "117c0815-b039-449e-99af-71bc8f86e5fb",
   "metadata": {},
   "outputs": [],
   "source": []
  },
  {
   "cell_type": "code",
   "execution_count": null,
   "id": "ffd1085a-499c-49b6-afd1-993e1e28ef8c",
   "metadata": {},
   "outputs": [],
   "source": []
  }
 ],
 "metadata": {
  "kernelspec": {
   "display_name": "Python 3 (ipykernel)",
   "language": "python",
   "name": "python3"
  },
  "language_info": {
   "codemirror_mode": {
    "name": "ipython",
    "version": 3
   },
   "file_extension": ".py",
   "mimetype": "text/x-python",
   "name": "python",
   "nbconvert_exporter": "python",
   "pygments_lexer": "ipython3",
   "version": "3.12.4"
  }
 },
 "nbformat": 4,
 "nbformat_minor": 5
}
