{
 "cells": [
  {
   "cell_type": "code",
   "execution_count": 9,
   "id": "e5123d8d-49fe-4b96-9233-515376e63c96",
   "metadata": {},
   "outputs": [
    {
     "name": "stdout",
     "output_type": "stream",
     "text": [
      "Carpeta seleccionada: /home/ptrenchs/Escritorio/Material_docente_clase/SGTDEE\n"
     ]
    }
   ],
   "source": [
    "from fun_CMD import contenido_directorio\n",
    "from fun_CMD import manipulacion_archivos\n",
    "import tkinter as tk\n",
    "from tkinter import filedialog\n",
    "\n",
    "# Crear una ventana raíz de tkinter (no visible)\n",
    "root = tk.Tk()\n",
    "root.withdraw()  # Ocultar la ventana raíz\n",
    "\n",
    "# Abrir el diálogo para seleccionar carpeta\n",
    "folder_path = filedialog.askdirectory()\n",
    "\n",
    "# Mostrar la ruta seleccionada (puedes usarla según lo necesites)\n",
    "if folder_path:\n",
    "    print(\"Carpeta seleccionada:\", folder_path)\n",
    "else:\n",
    "    print(\"No se seleccionó ninguna carpeta\")\n",
    "\n",
    "\n",
    "\n",
    "carpeta = contenido_directorio.Directorio(folder_path).all_archivos()\n",
    "archivos_ipynb = contenido_directorio.Filtros_formato(rutas = carpeta,formatos = 'ipynb').elejir()\n",
    "archivos_ipynb = contenido_directorio.Filtros_carpetas(rutas = archivos_ipynb,carpetas = '.ipynb_checkpoints,2-ejercicio_resuelto,3-enunciados,4-resuelto_Alumnos,5-corretgit').eliminar()\n",
    "crear_material = manipulacion_archivos.Material(rutas=archivos_ipynb,corregir=True,sub_indice='pu')\n",
    "\n",
    "crear_material.Enunciados()\n",
    "crear_material.ejercicio_resuelto()\n",
    "\n",
    "\n"
   ]
  },
  {
   "cell_type": "code",
   "execution_count": null,
   "id": "117c0815-b039-449e-99af-71bc8f86e5fb",
   "metadata": {},
   "outputs": [],
   "source": []
  },
  {
   "cell_type": "code",
   "execution_count": null,
   "id": "ffd1085a-499c-49b6-afd1-993e1e28ef8c",
   "metadata": {},
   "outputs": [],
   "source": []
  }
 ],
 "metadata": {
  "kernelspec": {
   "display_name": "Python 3 (ipykernel)",
   "language": "python",
   "name": "python3"
  },
  "language_info": {
   "codemirror_mode": {
    "name": "ipython",
    "version": 3
   },
   "file_extension": ".py",
   "mimetype": "text/x-python",
   "name": "python",
   "nbconvert_exporter": "python",
   "pygments_lexer": "ipython3",
   "version": "3.12.4"
  }
 },
 "nbformat": 4,
 "nbformat_minor": 5
}
